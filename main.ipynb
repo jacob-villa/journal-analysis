{
 "cells": [
  {
   "cell_type": "markdown",
   "metadata": {
    "vscode": {
     "languageId": "plaintext"
    }
   },
   "source": [
    "# Journal Entries Analysis\n",
    "A mini data analysis project to examine and analyze the contents of journal entries I have written from 2019 to 2025."
   ]
  },
  {
   "cell_type": "code",
   "execution_count": 1,
   "metadata": {},
   "outputs": [],
   "source": [
    "import json\n",
    "import psycopg2\n",
    "import glob\n",
    "from datetime import datetime"
   ]
  },
  {
   "cell_type": "markdown",
   "metadata": {},
   "source": [
    "### Inserting data into Postgres DB\n",
    "Schema was created beforehand on psql"
   ]
  },
  {
   "cell_type": "code",
   "execution_count": 8,
   "metadata": {},
   "outputs": [],
   "source": [
    "DB_PARAMS = {\n",
    "    \"dbname\": \"journal_db\", \n",
    "    \"user\": \"postgres\",\n",
    "    \"password\": \"password\",\n",
    "    \"host\": \"localhost\"\n",
    "}"
   ]
  },
  {
   "cell_type": "code",
   "execution_count": null,
   "metadata": {},
   "outputs": [],
   "source": [
    "# Connect to postgres db\n",
    "conn = psycopg2.connect(**DB_PARAMS)\n",
    "cursor = conn.cursor()"
   ]
  },
  {
   "cell_type": "code",
   "execution_count": null,
   "metadata": {},
   "outputs": [],
   "source": [
    "# Load JSON files into DB\n",
    "for file in glob.glob(\"data/*.json\"):  \n",
    "    with open(file, \"r\", encoding=\"utf-8\") as f:\n",
    "        data = json.load(f)\n",
    "\n",
    "        # Convert milliseconds timestamp to PostgreSQL TIMESTAMP format\n",
    "        date_journal = datetime.utcfromtimestamp(data[\"date_journal\"] / 1000)\n",
    "\n",
    "        # Insert into PostgreSQL\n",
    "        cursor.execute(\"\"\"\n",
    "            INSERT INTO journal_entries (id, date_journal, text, tags, mood, sentiment, address, latitude, longitude, weather_description, weather_temp, weather_place)\n",
    "            VALUES (%s, %s, %s, %s, %s, %s, %s, %s, %s, %s, %s, %s)\n",
    "        \"\"\", (\n",
    "            data[\"id\"], \n",
    "            date_journal, \n",
    "            data[\"text\"], \n",
    "            data[\"tags\"], \n",
    "            data[\"mood\"], \n",
    "            data[\"sentiment\"], \n",
    "            data[\"address\"], \n",
    "            data[\"lat\"], \n",
    "            data[\"lon\"], \n",
    "            data[\"weather\"][\"description\"], \n",
    "            data[\"weather\"][\"degree_c\"], \n",
    "            data[\"weather\"][\"place\"]\n",
    "        ))"
   ]
  },
  {
   "cell_type": "code",
   "execution_count": 7,
   "metadata": {},
   "outputs": [],
   "source": [
    "# Commit and close connection\n",
    "conn.commit()\n",
    "cursor.close()\n",
    "conn.close()"
   ]
  },
  {
   "cell_type": "markdown",
   "metadata": {},
   "source": [
    "---"
   ]
  },
  {
   "cell_type": "markdown",
   "metadata": {},
   "source": [
    "### Initial Analysis"
   ]
  },
  {
   "cell_type": "code",
   "execution_count": 9,
   "metadata": {},
   "outputs": [],
   "source": [
    "conn = psycopg2.connect(**DB_PARAMS)"
   ]
  },
  {
   "cell_type": "code",
   "execution_count": null,
   "metadata": {},
   "outputs": [],
   "source": []
  }
 ],
 "metadata": {
  "kernelspec": {
   "display_name": ".venv",
   "language": "python",
   "name": "python3"
  },
  "language_info": {
   "codemirror_mode": {
    "name": "ipython",
    "version": 3
   },
   "file_extension": ".py",
   "mimetype": "text/x-python",
   "name": "python",
   "nbconvert_exporter": "python",
   "pygments_lexer": "ipython3",
   "version": "3.11.3"
  }
 },
 "nbformat": 4,
 "nbformat_minor": 2
}
