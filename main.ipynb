{
 "cells": [
  {
   "cell_type": "markdown",
   "metadata": {
    "vscode": {
     "languageId": "plaintext"
    }
   },
   "source": [
    "# Journal Entries Analysis\n",
    "A mini data analysis project to examine and analyze the contents of journal entries I have written from 2019 to 2025."
   ]
  },
  {
   "cell_type": "code",
   "execution_count": 7,
   "metadata": {},
   "outputs": [],
   "source": [
    "import json\n",
    "import psycopg2\n",
    "import glob\n",
    "from datetime import datetime\n",
    "import pandas as pd\n",
    "import numpy as np\n",
    "import os"
   ]
  },
  {
   "cell_type": "code",
   "execution_count": 4,
   "metadata": {},
   "outputs": [],
   "source": [
    "DB_PARAMS = {\n",
    "    \"dbname\": \"journal_db\", \n",
    "    \"user\": \"postgres\",\n",
    "    \"password\": \"password\",\n",
    "    \"host\": \"localhost\"\n",
    "}"
   ]
  },
  {
   "cell_type": "markdown",
   "metadata": {},
   "source": [
    "## Inserting data into Postgres DB\n",
    "Schema was created beforehand on psql"
   ]
  },
  {
   "cell_type": "code",
   "execution_count": null,
   "metadata": {},
   "outputs": [],
   "source": [
    "# Connect to postgres db\n",
    "conn = psycopg2.connect(**DB_PARAMS)\n",
    "cursor = conn.cursor()"
   ]
  },
  {
   "cell_type": "code",
   "execution_count": null,
   "metadata": {},
   "outputs": [],
   "source": [
    "# Load JSON files into DB\n",
    "for file in glob.glob(\"data/*.json\"):  \n",
    "    with open(file, \"r\", encoding=\"utf-8\") as f:\n",
    "        data = json.load(f)\n",
    "\n",
    "        # Convert milliseconds timestamp to PostgreSQL TIMESTAMP format\n",
    "        date_journal = datetime.utcfromtimestamp(data[\"date_journal\"] / 1000)\n",
    "\n",
    "        # Convert to GMT+8\n",
    "        date_journal = date_journal.replace(hour=date_journal.hour + 8)\n",
    "\n",
    "        # Insert into PostgreSQL\n",
    "        cursor.execute(\"\"\"\n",
    "            INSERT INTO journal_entries (id, date_journal, text, tags, mood, sentiment, address, latitude, longitude, weather_description, weather_temp, weather_place)\n",
    "            VALUES (%s, %s, %s, %s, %s, %s, %s, %s, %s, %s, %s, %s)\n",
    "        \"\"\", (\n",
    "            data[\"id\"], \n",
    "            date_journal, \n",
    "            data[\"text\"], \n",
    "            data[\"tags\"], \n",
    "            data[\"mood\"], \n",
    "            data[\"sentiment\"], \n",
    "            data[\"address\"], \n",
    "            data[\"lat\"], \n",
    "            data[\"lon\"], \n",
    "            data[\"weather\"][\"description\"], \n",
    "            data[\"weather\"][\"degree_c\"], \n",
    "            data[\"weather\"][\"place\"]\n",
    "        ))"
   ]
  },
  {
   "cell_type": "code",
   "execution_count": 7,
   "metadata": {},
   "outputs": [],
   "source": [
    "# Commit and close connection\n",
    "conn.commit()\n",
    "cursor.close()\n",
    "conn.close()"
   ]
  },
  {
   "cell_type": "markdown",
   "metadata": {},
   "source": [
    "---"
   ]
  },
  {
   "cell_type": "markdown",
   "metadata": {},
   "source": [
    "## Initial Cleaning and Exploratory Data Analysis"
   ]
  },
  {
   "cell_type": "code",
   "execution_count": 8,
   "metadata": {},
   "outputs": [],
   "source": [
    "sql_query = \"\"\"\n",
    "SELECT * \n",
    "FROM journal_entries;\n",
    "\"\"\" "
   ]
  },
  {
   "cell_type": "code",
   "execution_count": 9,
   "metadata": {},
   "outputs": [
    {
     "name": "stderr",
     "output_type": "stream",
     "text": [
      "C:\\Users\\jmcvi\\AppData\\Local\\Temp\\ipykernel_13780\\4074806114.py:3: UserWarning: pandas only supports SQLAlchemy connectable (engine/connection) or database string URI or sqlite3 DBAPI2 connection. Other DBAPI2 objects are not tested. Please consider using SQLAlchemy.\n",
      "  df = pd.read_sql_query(sql_query, conn)\n"
     ]
    }
   ],
   "source": [
    "# Load the data into a dataframe\n",
    "conn = psycopg2.connect(**DB_PARAMS)\n",
    "df = pd.read_sql_query(sql_query, conn)\n",
    "conn.close()"
   ]
  },
  {
   "cell_type": "markdown",
   "metadata": {},
   "source": [
    "## Cleaning\n",
    "My journaling platform had the option to include several other fields of information with each entry (location, sentiment, etc). \n",
    "\n",
    "Since a lot of that data is incomplete or missing, we'll need to clean up the respective columns."
   ]
  },
  {
   "cell_type": "markdown",
   "metadata": {},
   "source": [
    "### Entry text\n",
    "Since the journaling platform processes each text entry as an HTML file, tags are also included in the output. These are removable with a simple RegEx replace."
   ]
  },
  {
   "cell_type": "code",
   "execution_count": 17,
   "metadata": {},
   "outputs": [],
   "source": [
    "# Remove HTML tags from the text\n",
    "df[\"text\"] = df[\"text\"].str.replace(r\"<[^>]*>\", \"\", regex=True)"
   ]
  },
  {
   "cell_type": "markdown",
   "metadata": {},
   "source": [
    "### Mood and Sentiment Columns\n",
    "Sentiment was an available parameter in my journaling platform that allowed me to specify my mood for that day, ranging from 1-5 on a scale. However, I ended up not specifying my mood for a majority of my entries (was too lazy to do the additional clicks). \n",
    "\n",
    "Let's delete these columns for now and extract sentiment later on."
   ]
  },
  {
   "cell_type": "code",
   "execution_count": 19,
   "metadata": {},
   "outputs": [],
   "source": [
    "# Drop mood and sentiment columns\n",
    "df = df.drop(columns=[\"mood\", \"sentiment\"])"
   ]
  },
  {
   "cell_type": "markdown",
   "metadata": {},
   "source": [
    "### Latitude and Longitude Location\n",
    "Replaced invalid values with my home coordinates"
   ]
  },
  {
   "cell_type": "markdown",
   "metadata": {},
   "source": [
    "### Filling in values\n",
    "My journaling platform has the option to include your current location, including the current weather if you do choose to include location. However, I ended up not including my location for the majority of my latter entries (was too lazy to click the additional button). \n",
    "\n",
    "I now want to fill in all values for weather description and temp with the description and temperature at my home on that given day.\n"
   ]
  },
  {
   "cell_type": "code",
   "execution_count": null,
   "metadata": {},
   "outputs": [],
   "source": []
  }
 ],
 "metadata": {
  "kernelspec": {
   "display_name": ".venv",
   "language": "python",
   "name": "python3"
  },
  "language_info": {
   "codemirror_mode": {
    "name": "ipython",
    "version": 3
   },
   "file_extension": ".py",
   "mimetype": "text/x-python",
   "name": "python",
   "nbconvert_exporter": "python",
   "pygments_lexer": "ipython3",
   "version": "3.11.3"
  }
 },
 "nbformat": 4,
 "nbformat_minor": 2
}
